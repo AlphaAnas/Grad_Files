{
 "cells": [
  {
   "cell_type": "markdown",
   "metadata": {},
   "source": [
    "# CS 316 : Introduction to Deep Learning\n",
    "## Lab 01 : Numpy Basics\n",
    "### Dr. Abdul Samad"
   ]
  },
  {
   "cell_type": "markdown",
   "metadata": {},
   "source": [
    "# Overview\n",
    "Hello, students. In this lab, we will go over the fundamentals of Numpy. We'll start with data manipulation and then move on to numpy methods and operators.\n",
    "\n",
    "Objectives:\n",
    "1) Understanding the Basic of numpy Library for Deep Learning \n",
    "2) Applying numpy operations on different tensors"
   ]
  },
  {
   "cell_type": "markdown",
   "metadata": {},
   "source": [
    "# Setup"
   ]
  },
  {
   "cell_type": "code",
   "execution_count": 2,
   "metadata": {
    "id": "r69mUGWMntza"
   },
   "outputs": [
    {
     "data": {
      "text/plain": [
       "'1.23.5'"
      ]
     },
     "execution_count": 2,
     "metadata": {},
     "output_type": "execute_result"
    }
   ],
   "source": [
    "# Import numpy using the alias np\n",
    "import numpy as np\n",
    "from PIL import Image\n",
    "np.__version__"
   ]
  },
  {
   "cell_type": "markdown",
   "metadata": {},
   "source": [
    "# 1 - Data Manipulation"
   ]
  },
  {
   "cell_type": "markdown",
   "metadata": {
    "id": "zP0_gG75ntzc"
   },
   "source": [
    "A tensor represents a (possibly multi-dimensional) array of numerical values. With one axis, a tensor corresponds (in math) to a vector. With two axes, a tensor corresponds to a matrix. Tensors with more than two axes do not have special mathematical names.\n"
   ]
  },
  {
   "cell_type": "markdown",
   "metadata": {
    "id": "IW-O9IRGntzd"
   },
   "source": [
    "## Creating Numpy Arrays-Matrices-Tensors"
   ]
  },
  {
   "cell_type": "markdown",
   "metadata": {
    "id": "o1UUtXf-ntze"
   },
   "source": [
    "We can use arange to create a row vector x containing the first 12 integers starting with 0, though they are created as floats by default. Each of the values in a tensor is called an element of the tensor. For instance, there are 12 elements in the tensor x. Unless otherwise specified, a new tensor will be stored in main memory and designated for CPU-based computation.\n",
    "<h3><center>Representation of Creating Vectors</center></h3>\n",
    "\n",
    "<div>\n",
    "<center>\n",
    "<img src=\"arrange.png\" width=\"840\" />\n",
    "</center>\n",
    "</div>"
   ]
  },
  {
   "cell_type": "code",
   "execution_count": 3,
   "metadata": {
    "id": "SwSmzTarntze",
    "outputId": "efb04bd6-fd37-455f-9348-e9f6609f4a5d"
   },
   "outputs": [
    {
     "data": {
      "text/plain": [
       "array([ 0,  1,  2,  3,  4,  5,  6,  7,  8,  9, 10, 11])"
      ]
     },
     "execution_count": 3,
     "metadata": {},
     "output_type": "execute_result"
    }
   ],
   "source": [
    "x = np.arange(12)\n",
    "x"
   ]
  },
  {
   "cell_type": "markdown",
   "metadata": {
    "id": "GbLqIJHtntzg"
   },
   "source": [
    "We can access a tensor’s shape (the length along each axis) by inspecting its shape property."
   ]
  },
  {
   "cell_type": "code",
   "execution_count": 4,
   "metadata": {
    "id": "YMjsmrpFntzi",
    "outputId": "099910d1-6878-4337-85f0-7ef22077d4de"
   },
   "outputs": [
    {
     "data": {
      "text/plain": [
       "(12,)"
      ]
     },
     "execution_count": 4,
     "metadata": {},
     "output_type": "execute_result"
    }
   ],
   "source": [
    "x.shape"
   ]
  },
  {
   "cell_type": "markdown",
   "metadata": {
    "id": "FKrqDQC2ntzj"
   },
   "source": [
    "If we just want to know the total number of elements in a tensor, i.e., the product of all of the shape elements, we can inspect its size. Because we are dealing with a vector here, the single element of its shape is identical to its size."
   ]
  },
  {
   "cell_type": "code",
   "execution_count": 5,
   "metadata": {
    "id": "ifljJ1LNntzk",
    "outputId": "306cda15-7b1b-43de-bcca-bd3a50737556"
   },
   "outputs": [
    {
     "data": {
      "text/plain": [
       "12"
      ]
     },
     "execution_count": 5,
     "metadata": {},
     "output_type": "execute_result"
    }
   ],
   "source": [
    "x.size"
   ]
  },
  {
   "cell_type": "markdown",
   "metadata": {
    "id": "UJDo8tDOntzk"
   },
   "source": [
    "To change the shape of a tensor without altering either the number of elements or their values, we can invoke the reshape function. For example, we can transform our tensor, x, from a row vector with shape (12,) to a matrix with shape (3, 4). This new tensor contains the exact same values, but views them as a matrix organized as 3 rows and 4 columns. To reiterate, although the shape has changed, the elements have not. Note that the size is unaltered by reshaping. Notice that when we use matrices we also use capital letters.\n",
    "\n",
    "<h3><center>Reshaping Representation</center></h3>\n",
    "\n",
    "<div>\n",
    "<center>\n",
    "<img src=\"reshape.png\" width=\"840\" />\n",
    "</center>\n",
    "</div>\n"
   ]
  },
  {
   "cell_type": "code",
   "execution_count": 6,
   "metadata": {
    "id": "_22GrCkLntzl",
    "outputId": "67d32b29-7697-4235-fe1c-a0a058b7b73e"
   },
   "outputs": [
    {
     "data": {
      "text/plain": [
       "array([[ 0,  1,  2,  3],\n",
       "       [ 4,  5,  6,  7],\n",
       "       [ 8,  9, 10, 11]])"
      ]
     },
     "execution_count": 6,
     "metadata": {},
     "output_type": "execute_result"
    }
   ],
   "source": [
    "X = x.reshape(3, 4)\n",
    "X"
   ]
  },
  {
   "cell_type": "markdown",
   "metadata": {},
   "source": [
    "Furthemore, Numpy also provides the option of transposing a array-matrix-tensor.\n",
    "\n",
    "<h3><center>Transpose Representation</center></h3>\n",
    "\n",
    "<div>\n",
    "<center>\n",
    "<img src=\"transpose.png\" width=\"840\" />\n",
    "</center>\n",
    "</div>\n",
    "\n"
   ]
  },
  {
   "cell_type": "code",
   "execution_count": 7,
   "metadata": {},
   "outputs": [
    {
     "data": {
      "text/plain": [
       "array([[0, 5],\n",
       "       [1, 6],\n",
       "       [2, 7],\n",
       "       [3, 8],\n",
       "       [4, 9]])"
      ]
     },
     "execution_count": 7,
     "metadata": {},
     "output_type": "execute_result"
    }
   ],
   "source": [
    "np.arange(0,10).reshape((2,5)).T"
   ]
  },
  {
   "cell_type": "markdown",
   "metadata": {
    "id": "bYl-VxY5ntzl"
   },
   "source": [
    "In some scenarios we may require a array-matrix-tensor of all ones or zero. We can easily create them use the \"ones\" and \"zeros\" method.\n",
    "\n",
    "<h3><center>Creating vectors with 0s or 1s or random values</center></h3>\n",
    "\n",
    "<div>\n",
    "<center>\n",
    "<img src=\"zeros.png\" width=\"840\" />\n",
    "</center>\n",
    "</div>\n"
   ]
  },
  {
   "cell_type": "code",
   "execution_count": 8,
   "metadata": {
    "id": "NnzsHADVntzm",
    "outputId": "c4db2bff-9627-47cd-dad6-35715ed333d4"
   },
   "outputs": [
    {
     "data": {
      "text/plain": [
       "array([[0., 0., 0., 0., 0., 0., 0.],\n",
       "       [0., 0., 0., 0., 0., 0., 0.]])"
      ]
     },
     "execution_count": 8,
     "metadata": {},
     "output_type": "execute_result"
    }
   ],
   "source": [
    "X = np.zeros((2, 7))\n",
    "X"
   ]
  },
  {
   "cell_type": "code",
   "execution_count": 9,
   "metadata": {
    "id": "TtBWmQeQntzm",
    "outputId": "e35cee77-a252-49dd-895e-c207ff65a705"
   },
   "outputs": [
    {
     "data": {
      "text/plain": [
       "array([[1., 1., 1., 1., 1., 1., 1.],\n",
       "       [1., 1., 1., 1., 1., 1., 1.],\n",
       "       [1., 1., 1., 1., 1., 1., 1.],\n",
       "       [1., 1., 1., 1., 1., 1., 1.]])"
      ]
     },
     "execution_count": 9,
     "metadata": {},
     "output_type": "execute_result"
    }
   ],
   "source": [
    "X = np.ones((4, 7))\n",
    "X"
   ]
  },
  {
   "cell_type": "markdown",
   "metadata": {},
   "source": [
    "We can also construct special matrices such as the Diagonal and Identity Matrx."
   ]
  },
  {
   "cell_type": "code",
   "execution_count": 10,
   "metadata": {},
   "outputs": [
    {
     "data": {
      "text/plain": [
       "array([[2, 0, 0],\n",
       "       [0, 3, 0],\n",
       "       [0, 0, 4]])"
      ]
     },
     "execution_count": 10,
     "metadata": {},
     "output_type": "execute_result"
    }
   ],
   "source": [
    "D = np.diag([2,3,4])\n",
    "D"
   ]
  },
  {
   "cell_type": "code",
   "execution_count": 11,
   "metadata": {},
   "outputs": [
    {
     "data": {
      "text/plain": [
       "array([[1., 0., 0.],\n",
       "       [0., 1., 0.],\n",
       "       [0., 0., 1.]])"
      ]
     },
     "execution_count": 11,
     "metadata": {},
     "output_type": "execute_result"
    }
   ],
   "source": [
    "I = np.eye(3)\n",
    "I"
   ]
  },
  {
   "cell_type": "markdown",
   "metadata": {
    "id": "FKV2iRX9ntzm"
   },
   "source": [
    "To create tensor we just add an extra dimension to the shape of numpy object. Lets make a 3x3x3 tensor of all ones."
   ]
  },
  {
   "cell_type": "markdown",
   "metadata": {},
   "source": [
    "We can also a new axis to an existing array , matrix or tensor. using `np.newaxis`."
   ]
  },
  {
   "cell_type": "code",
   "execution_count": 12,
   "metadata": {},
   "outputs": [
    {
     "name": "stdout",
     "output_type": "stream",
     "text": [
      "[[1. 1. 1.]\n",
      " [1. 1. 1.]\n",
      " [1. 1. 1.]]\n"
     ]
    }
   ],
   "source": [
    "a = np.ones((3,3))\n",
    "print(a)"
   ]
  },
  {
   "cell_type": "markdown",
   "metadata": {
    "id": "odp1BIu3ntzn"
   },
   "source": [
    "Often, we want to randomly sample the values for each element in a tensor from some probability distribution. For example, when we construct arrays to serve as parameters in a neural network, we will typically initialize their values randomly. The following snippet creates a tensor with shape (3, 4). Each of its elements is randomly sampled from a standard Gaussian (normal) distribution with a mean of 0 and a standard deviation of 1. We can see that every time we run this cell it creates new random numbers."
   ]
  },
  {
   "cell_type": "code",
   "execution_count": 13,
   "metadata": {
    "id": "F1x6N7kentzn",
    "outputId": "a33fca6d-d046-4cca-e77e-18abcfdaf233"
   },
   "outputs": [
    {
     "data": {
      "text/plain": [
       "array([[-0.95346618,  1.84632811, -0.37899275,  0.33644032],\n",
       "       [ 2.38322021, -0.35847745, -1.09167934,  0.47007069],\n",
       "       [-0.09855309,  1.65132216,  0.73439974, -0.27294368]])"
      ]
     },
     "execution_count": 13,
     "metadata": {},
     "output_type": "execute_result"
    }
   ],
   "source": [
    "np.random.normal(0, 1, size=(3, 4))"
   ]
  },
  {
   "cell_type": "markdown",
   "metadata": {},
   "source": [
    "Numpy also provides options to sample from other distributions such as the uniform distribution."
   ]
  },
  {
   "cell_type": "code",
   "execution_count": 14,
   "metadata": {},
   "outputs": [
    {
     "data": {
      "text/plain": [
       "array([[0.06383495, 0.01394653, 0.27321092, 0.0979192 , 0.61454952],\n",
       "       [0.64207737, 0.01447337, 0.84093242, 0.47388159, 0.10409953],\n",
       "       [0.77283729, 0.69896313, 0.69676989, 0.08339845, 0.91308974],\n",
       "       [0.58360497, 0.25397598, 0.30464496, 0.50791404, 0.6157033 ],\n",
       "       [0.37086029, 0.18692514, 0.70711155, 0.63287826, 0.7859386 ]])"
      ]
     },
     "execution_count": 14,
     "metadata": {},
     "output_type": "execute_result"
    }
   ],
   "source": [
    "np.random.rand(5,5)"
   ]
  },
  {
   "cell_type": "code",
   "execution_count": 15,
   "metadata": {},
   "outputs": [
    {
     "data": {
      "text/plain": [
       "array([[0.82821957, 0.45146059, 0.28743489, 0.01853985, 0.29944517],\n",
       "       [0.55612686, 0.73147138, 0.01752668, 0.28061265, 0.39799121],\n",
       "       [0.31736832, 0.7886995 , 0.02939367, 0.7487525 , 0.53074716],\n",
       "       [0.48111726, 0.16829212, 0.46813275, 0.53717377, 0.20863296],\n",
       "       [0.72469885, 0.48720854, 0.7946234 , 0.36352654, 0.91541278]])"
      ]
     },
     "execution_count": 15,
     "metadata": {},
     "output_type": "execute_result"
    }
   ],
   "source": [
    "np.random.uniform(size=(5,5))"
   ]
  },
  {
   "cell_type": "code",
   "execution_count": 16,
   "metadata": {},
   "outputs": [
    {
     "data": {
      "text/plain": [
       "array([[49, 66, 15, 46, 70],\n",
       "       [46, 95, 36, 54, 26],\n",
       "       [28, 16, 34, 87, 89],\n",
       "       [ 0, 50,  9, 13, 28],\n",
       "       [ 8, 74, 82, 82, 34]])"
      ]
     },
     "execution_count": 16,
     "metadata": {},
     "output_type": "execute_result"
    }
   ],
   "source": [
    "np.random.randint(0,100,(5,5))"
   ]
  },
  {
   "cell_type": "markdown",
   "metadata": {
    "id": "Zsn2EysDntzo"
   },
   "source": [
    "## Indexing and Slicing"
   ]
  },
  {
   "cell_type": "markdown",
   "metadata": {
    "id": "EUZKwFC7ntzo"
   },
   "source": [
    "Just as in any other Python array, elements in a tensor can be accessed by index. As in any Python array, the first element has index 0 and ranges are specified to include the first but before the last element. As in standard Python lists, we can access elements according to their relative position to the end of the list by using negative indices.\n",
    "\n",
    "Thus, [-1] selects the last element and [1:3] selects the second and the third elements as follows:\n",
    "\n",
    "<h3><center>Indexing</center></h3>\n",
    "\n",
    "<div>\n",
    "<center>\n",
    "<img src=\"indexing.png\" width=\"840\" />\n",
    "</center>\n",
    "</div>\n"
   ]
  },
  {
   "cell_type": "code",
   "execution_count": 17,
   "metadata": {
    "colab": {
     "base_uri": "https://localhost:8080/"
    },
    "id": "CmiaY2J0ntzo",
    "outputId": "35fa060f-6273-4a32-a52a-994bb9d01f77"
   },
   "outputs": [
    {
     "data": {
      "text/plain": [
       "(array([5, 6]),\n",
       " 2,\n",
       " array([[3, 4],\n",
       "        [5, 6]]),\n",
       " array([1, 3]))"
      ]
     },
     "execution_count": 17,
     "metadata": {},
     "output_type": "execute_result"
    }
   ],
   "source": [
    "X = np.arange(1,7).reshape(3, 2)\n",
    "X[-1], X[0,1],X[1:3],X[0:2,0]"
   ]
  },
  {
   "cell_type": "markdown",
   "metadata": {
    "id": "OoqRwcEOntzp"
   },
   "source": [
    "If we want to assign multiple elements the same value, we simply index all of them and then assign them the value. For instance, [0:2, :] accesses the first and second rows, where : takes all the elements along axis 1 (column). While we discussed indexing for matrices, this obviously also works for vectors and for tensors of more than 2 dimensions."
   ]
  },
  {
   "cell_type": "code",
   "execution_count": 18,
   "metadata": {
    "id": "oHxZZmBvntzp"
   },
   "outputs": [
    {
     "data": {
      "text/plain": [
       "array([[12, 12],\n",
       "       [12, 12],\n",
       "       [ 5,  6]])"
      ]
     },
     "execution_count": 18,
     "metadata": {},
     "output_type": "execute_result"
    }
   ],
   "source": [
    "X[0:2, :] = 12\n",
    "X"
   ]
  },
  {
   "cell_type": "markdown",
   "metadata": {},
   "source": [
    "In addition to specifying the bounds for accessing the array, we can also specify the stepsize."
   ]
  },
  {
   "cell_type": "code",
   "execution_count": 19,
   "metadata": {},
   "outputs": [
    {
     "name": "stdout",
     "output_type": "stream",
     "text": [
      "[[0.36256233 0.37662779 0.09127963 0.49486547 0.26218825]\n",
      " [0.32837855 0.3424456  0.46954207 0.64801761 0.17637421]\n",
      " [0.76181134 0.68076981 0.49621911 0.54007164 0.22167498]\n",
      " [0.92910466 0.76095714 0.0190784  0.61162068 0.60639252]\n",
      " [0.41253329 0.64273025 0.03526159 0.86815491 0.95930669]]\n"
     ]
    }
   ],
   "source": [
    "r = np.random.rand(5,5)\n",
    "print(r)\n"
   ]
  },
  {
   "cell_type": "markdown",
   "metadata": {},
   "source": [
    "Here we are accessing all the rows, but only columns 0,2 and because 4 is the maximum bound and 2 is step size."
   ]
  },
  {
   "cell_type": "code",
   "execution_count": 20,
   "metadata": {},
   "outputs": [
    {
     "data": {
      "text/plain": [
       "array([[0.36256233, 0.09127963],\n",
       "       [0.32837855, 0.46954207],\n",
       "       [0.76181134, 0.49621911],\n",
       "       [0.92910466, 0.0190784 ],\n",
       "       [0.41253329, 0.03526159]])"
      ]
     },
     "execution_count": 20,
     "metadata": {},
     "output_type": "execute_result"
    }
   ],
   "source": [
    "r[:,0:4:2]"
   ]
  },
  {
   "cell_type": "markdown",
   "metadata": {},
   "source": [
    "We can also perform the above operation by using `np.arange` instead of providing the indices."
   ]
  },
  {
   "cell_type": "code",
   "execution_count": 21,
   "metadata": {},
   "outputs": [
    {
     "data": {
      "text/plain": [
       "array([[0.36256233, 0.09127963],\n",
       "       [0.32837855, 0.46954207],\n",
       "       [0.76181134, 0.49621911],\n",
       "       [0.92910466, 0.0190784 ],\n",
       "       [0.41253329, 0.03526159]])"
      ]
     },
     "execution_count": 21,
     "metadata": {},
     "output_type": "execute_result"
    }
   ],
   "source": [
    "r[:,np.arange(0,4,2)]"
   ]
  },
  {
   "cell_type": "markdown",
   "metadata": {},
   "source": [
    "## Utilizing what we Learned uptil now\n",
    "\n",
    "We can use the skills that we have learned up until now to create a checkerboard."
   ]
  },
  {
   "cell_type": "code",
   "execution_count": 22,
   "metadata": {},
   "outputs": [
    {
     "name": "stdout",
     "output_type": "stream",
     "text": [
      "[[0. 0. 0. 0. 0. 0. 0. 0.]\n",
      " [1. 0. 1. 0. 1. 0. 1. 0.]\n",
      " [0. 0. 0. 0. 0. 0. 0. 0.]\n",
      " [1. 0. 1. 0. 1. 0. 1. 0.]\n",
      " [0. 0. 0. 0. 0. 0. 0. 0.]\n",
      " [1. 0. 1. 0. 1. 0. 1. 0.]\n",
      " [0. 0. 0. 0. 0. 0. 0. 0.]\n",
      " [1. 0. 1. 0. 1. 0. 1. 0.]]\n",
      "[[0. 1. 0. 1. 0. 1. 0. 1.]\n",
      " [1. 0. 1. 0. 1. 0. 1. 0.]\n",
      " [0. 1. 0. 1. 0. 1. 0. 1.]\n",
      " [1. 0. 1. 0. 1. 0. 1. 0.]\n",
      " [0. 1. 0. 1. 0. 1. 0. 1.]\n",
      " [1. 0. 1. 0. 1. 0. 1. 0.]\n",
      " [0. 1. 0. 1. 0. 1. 0. 1.]\n",
      " [1. 0. 1. 0. 1. 0. 1. 0.]]\n"
     ]
    }
   ],
   "source": [
    "# Create a checkerboard\n",
    "z = np.zeros((8,8))\n",
    "# Start from the second row, and skip every alternate row.\n",
    "# Start from the first column, and skip every alternate column.\n",
    "z[1::2,::2]=1\n",
    "print(z)\n",
    "\n",
    "# Start from the first row, and skip every alternate row.\n",
    "# Start from the second column, and skip every alternate column.\n",
    "z[::2,1::2]=1\n",
    "print(z)"
   ]
  },
  {
   "cell_type": "markdown",
   "metadata": {},
   "source": [
    "We can also add a border of zeros to a matrix of ones."
   ]
  },
  {
   "cell_type": "code",
   "execution_count": 23,
   "metadata": {},
   "outputs": [
    {
     "name": "stdout",
     "output_type": "stream",
     "text": [
      "[[0. 1. 1. 1. 1. 1. 1. 1. 1. 0.]\n",
      " [0. 1. 1. 1. 1. 1. 1. 1. 1. 0.]\n",
      " [0. 1. 1. 1. 1. 1. 1. 1. 1. 0.]\n",
      " [0. 1. 1. 1. 1. 1. 1. 1. 1. 0.]\n",
      " [0. 1. 1. 1. 1. 1. 1. 1. 1. 0.]\n",
      " [0. 1. 1. 1. 1. 1. 1. 1. 1. 0.]\n",
      " [0. 1. 1. 1. 1. 1. 1. 1. 1. 0.]\n",
      " [0. 1. 1. 1. 1. 1. 1. 1. 1. 0.]\n",
      " [0. 1. 1. 1. 1. 1. 1. 1. 1. 0.]\n",
      " [0. 1. 1. 1. 1. 1. 1. 1. 1. 0.]]\n",
      "[[0. 0. 0. 0. 0. 0. 0. 0. 0. 0.]\n",
      " [0. 1. 1. 1. 1. 1. 1. 1. 1. 0.]\n",
      " [0. 1. 1. 1. 1. 1. 1. 1. 1. 0.]\n",
      " [0. 1. 1. 1. 1. 1. 1. 1. 1. 0.]\n",
      " [0. 1. 1. 1. 1. 1. 1. 1. 1. 0.]\n",
      " [0. 1. 1. 1. 1. 1. 1. 1. 1. 0.]\n",
      " [0. 1. 1. 1. 1. 1. 1. 1. 1. 0.]\n",
      " [0. 1. 1. 1. 1. 1. 1. 1. 1. 0.]\n",
      " [0. 1. 1. 1. 1. 1. 1. 1. 1. 0.]\n",
      " [0. 0. 0. 0. 0. 0. 0. 0. 0. 0.]]\n"
     ]
    }
   ],
   "source": [
    "# Working with borders and adding padding\n",
    "image = np.ones((10,10))\n",
    "# For all rows, assign first and last column zero.\n",
    "image[:,[0,-1]]=0\n",
    "print(image)\n",
    "# For the first and last rows,assign all columns zero.\n",
    "image[[0,-1],:]=0\n",
    "print(image)"
   ]
  },
  {
   "cell_type": "markdown",
   "metadata": {},
   "source": [
    "# 2 - Numpy Operators\n",
    "\n"
   ]
  },
  {
   "cell_type": "markdown",
   "metadata": {},
   "source": [
    "In this portion of the lab, we will see at some of the numpy operators. Understanding these will allow you to make your own neural network."
   ]
  },
  {
   "cell_type": "markdown",
   "metadata": {
    "id": "jikn1ynxntzq"
   },
   "source": [
    "## Vectorized Operations\n",
    "\n"
   ]
  },
  {
   "cell_type": "markdown",
   "metadata": {},
   "source": [
    "You may have noticed that numpy arrays have the restriction of just one data type. This homogeneity allows us to apply mathematical operations on each of the element in a numpy array at the same time. Suppose I want to add 2 matrices $A,B$ together, I can either iterate 1 by 1 and compute the result for each value or use numpy and do it together. I can do this operation using `np.add(A,B)` or more succinctly `A+B`. They both generate the same result.\n",
    "\n",
    "<h3><center>Addition Representation</center></h3>\n",
    "\n",
    "<div>\n",
    "<center>\n",
    "<img src=\"addition.png\" width=\"840\" />\n",
    "</center>\n",
    "</div>\n",
    "\n",
    "<h3><center>Scalar multiplication Representation</center></h3>\n",
    "\n",
    "<div>\n",
    "<center>\n",
    "<img src=\"scalarmultiplication.png\" width=\"840\" />\n",
    "</center>\n",
    "</div>"
   ]
  },
  {
   "cell_type": "code",
   "execution_count": 24,
   "metadata": {
    "id": "CtydhYoJntzq"
   },
   "outputs": [
    {
     "name": "stdout",
     "output_type": "stream",
     "text": [
      "[[2 3]\n",
      " [4 5]]\n",
      "[[2 3]\n",
      " [4 5]]\n"
     ]
    }
   ],
   "source": [
    "A = np.array([[1,2],[3,4]])\n",
    "B = np.array([[1,1],[1,1]])\n",
    "print(np.add(A,B))\n",
    "#it's better to only use the numpy library\n",
    "print(A+B)"
   ]
  },
  {
   "cell_type": "markdown",
   "metadata": {
    "id": "mvkxl2ASntzr"
   },
   "source": [
    "We can use other operators as well like\n",
    "1. Subtraction : `np.subtract(A,B)` or `A-B`\n",
    "2. Multiplication : `np.multiply(A,B)` or `A * B`. **Note that this is element-wise multiplication (Hamdard Product). This is not the same as Matrix Multiplication.**\n",
    "3. Division: `np.divide(A,B)` or `A/B`."
   ]
  },
  {
   "cell_type": "markdown",
   "metadata": {},
   "source": [
    "## Element-Wise Operators\n",
    "Similarly, we also have element-wise operations\n",
    "\n",
    "1. Square: `np.square(A)`\n",
    "2. Square Root: `np.sqrt(A)`. \n",
    "3. Floor: `np.floor(A)`\n",
    "4. Ceil `np.ceil(A)`\n",
    "5. Absolute Value: `np.abs(A)`\n",
    "6. Exponential: `np.exp(A)`"
   ]
  },
  {
   "cell_type": "markdown",
   "metadata": {},
   "source": [
    "## Examples of Operations"
   ]
  },
  {
   "cell_type": "code",
   "execution_count": 25,
   "metadata": {
    "colab": {
     "base_uri": "https://localhost:8080/"
    },
    "id": "YavXhEYNntzr",
    "outputId": "a40939cc-2171-4fd0-fa9f-b8d0fbec2a11"
   },
   "outputs": [
    {
     "name": "stdout",
     "output_type": "stream",
     "text": [
      "Subtracting revenue and profit: [200 400 600 550 500 900]\n",
      "Multiplying the units sold with price: [1200 2400 3000 4000 5000 5500]\n",
      "Dividing revenue by units sold to get the price:  [ 12.  48.  10. 100. 100.  10.]\n",
      "A: [-3 -2 -1  0  1  2  3]\n",
      "A.^2: [9 4 1 0 1 4 9]\n",
      "Sqrt(A.^2): [3. 2. 1. 0. 1. 2. 3.]\n",
      "A: [31.37888422 31.03854821 53.62061271 87.74991194 78.80251093]\n",
      "Floor A [31. 31. 53. 87. 78.]\n",
      "Floor A [32. 32. 54. 88. 79.]\n"
     ]
    }
   ],
   "source": [
    "# Subtraction\n",
    "\n",
    "Revenue = np.array([1200,2400,3000,4000,5000,5500])\n",
    "Cost= np.array([1000,2000,2400,3450,4500,4600])\n",
    "\n",
    "Profit = np.subtract(Revenue,Cost)\n",
    "print(\"Subtracting revenue and profit:\", Profit)\n",
    "\n",
    "# Multiplication\n",
    "\n",
    "Units_Sold = np.array([100,50,300,40,50,550])\n",
    "Price = np.array([12,48,10,100,100,10])\n",
    "Rev = np.multiply(Units_Sold,Price)\n",
    "print(\"Multiplying the units sold with price:\",Rev)\n",
    "\n",
    "\n",
    "# Division\n",
    "\n",
    "Prices = np.divide(Rev,Units_Sold)\n",
    "print(\"Dividing revenue by units sold to get the price: \",Prices)\n",
    "\n",
    "# Square\n",
    "\n",
    "A = np.arange(-3,4)\n",
    "print(\"A:\",A)\n",
    "squaredA = np.square(A)\n",
    "print(\"A.^2:\",squaredA)\n",
    "\n",
    "\n",
    "# Square root\n",
    "\n",
    "sqrt_squaredA = np.sqrt(squaredA)\n",
    "print(\"Sqrt(A.^2):\",sqrt_squaredA)\n",
    "\n",
    "# Floor A\n",
    "A = np.random.uniform(0,100,5)\n",
    "print(\"A:\",A)\n",
    "floor_A = np.floor(A)\n",
    "print(\"Floor A\",floor_A)\n",
    "\n",
    "\n",
    "ceil_A = np.ceil(A)\n",
    "print(\"Floor A\",ceil_A)"
   ]
  },
  {
   "cell_type": "markdown",
   "metadata": {
    "id": "Fa_UK8Okntzr"
   },
   "source": [
    "Element wise exponentiation of an array with Numpy. Applying $e^a$ for every element $a$ in $A$"
   ]
  },
  {
   "cell_type": "code",
   "execution_count": 26,
   "metadata": {
    "colab": {
     "base_uri": "https://localhost:8080/"
    },
    "id": "8MLwAeVqntzr",
    "outputId": "b64ac436-e4d0-4b89-b20f-b3e011002985"
   },
   "outputs": [
    {
     "data": {
      "text/plain": [
       "array([1.00000000e+00, 2.71828183e+00, 7.38905610e+00, 2.00855369e+01,\n",
       "       5.45981500e+01, 1.48413159e+02, 4.03428793e+02, 1.09663316e+03])"
      ]
     },
     "execution_count": 26,
     "metadata": {},
     "output_type": "execute_result"
    }
   ],
   "source": [
    "x = np.array([0,1,2,3,4,5,6,7])\n",
    "np.exp(x)"
   ]
  },
  {
   "cell_type": "markdown",
   "metadata": {
    "id": "tfd8K9ukntzs"
   },
   "source": [
    "## Combining Numpy Operators\n",
    "\n",
    "\n"
   ]
  },
  {
   "cell_type": "markdown",
   "metadata": {},
   "source": [
    "Exponentiation is a useful operation which is used in the sigmoid activation function. Sigmoid function is defined as follows:\n",
    "$$\\frac{1}{1+e^{-x}}$$\n",
    "We can use `np.exp(A)` to take $e^x$ on every element $x$. \n",
    "The below example implements this Sigmoid function using exponentiation.\n",
    "<br>\n"
   ]
  },
  {
   "cell_type": "code",
   "execution_count": 27,
   "metadata": {
    "colab": {
     "base_uri": "https://localhost:8080/"
    },
    "id": "XQZT1xzSntzs",
    "outputId": "42a3ae50-7f07-45f6-9668-6b8e78c7cf63"
   },
   "outputs": [
    {
     "name": "stdout",
     "output_type": "stream",
     "text": [
      "[0.11920292 0.26894142 0.5        0.73105858 0.88079708]\n"
     ]
    }
   ],
   "source": [
    "def sigmoid(x):\n",
    "\ta = np.exp(-x)\n",
    "\tb = np.add(1,a)\n",
    "\td = np.divide(1,b)\n",
    "\treturn d\n",
    "\n",
    "output_from_layer = np.array([-2,-1,0,1,2])\n",
    "output_after_sigmoid = sigmoid(output_from_layer)\n",
    "\n",
    "print(output_after_sigmoid)"
   ]
  },
  {
   "cell_type": "markdown",
   "metadata": {},
   "source": [
    "Batch Normalization is a regularization technique that allows a neural network to learn a more generalised model. In Batch Normalization, you subtract the mean and divide by the standard deviation."
   ]
  },
  {
   "cell_type": "code",
   "execution_count": 28,
   "metadata": {},
   "outputs": [
    {
     "name": "stdout",
     "output_type": "stream",
     "text": [
      "[[0.41476232 0.53104724 0.69764049 0.1052731  0.62911603]\n",
      " [0.30261138 0.3694026  0.98557175 0.06843421 0.49047204]\n",
      " [0.03862738 0.94934956 0.69076689 0.30047192 0.31828104]\n",
      " [0.23433397 0.81878014 0.34836753 0.14155445 0.80445759]\n",
      " [0.08273717 0.04348872 0.65536394 0.18307665 0.79131441]]\n",
      "Mean : 0.43981210143302435 ; Std : 0.2925523553071129\n",
      "[[-0.08562497  0.31185918  0.88130682 -1.1435184   0.64707708]\n",
      " [-0.46897835 -0.24067317  1.86551103 -1.26944079  0.17316537]\n",
      " [-1.37132625  1.74169665  0.85781156 -0.47629142 -0.41541644]\n",
      " [-0.70236361  1.29538537 -0.31257505 -1.01950178  1.24642814]\n",
      " [-1.22055051 -1.35470924  0.73679749 -0.87757095  1.20150224]]\n"
     ]
    }
   ],
   "source": [
    "r = np.random.random((5,5))\n",
    "print(r)\n",
    "def z_score(mat):\n",
    "    print(f\"Mean : {np.mean(mat)} ; Std : {np.std(mat)}\")\n",
    "    return (mat - np.mean(mat))/np.std(mat)\n",
    "print(z_score(r))"
   ]
  },
  {
   "cell_type": "markdown",
   "metadata": {},
   "source": [
    "## np.nan vs np.inf"
   ]
  },
  {
   "cell_type": "markdown",
   "metadata": {},
   "source": [
    "One thing that should be noted is that `np.nan` is different from `np.inf`. `np.inf` represents positive infinity whereas `np.nan` represents an invalid value. Furthemore, you cannot perform any operations with `np.nan` values. "
   ]
  },
  {
   "cell_type": "markdown",
   "metadata": {},
   "source": [
    "We can see that when `np.inf` is compared with 0, the answer is True. However, when `np.nan` is compared with `np.inf`, the answer is False."
   ]
  },
  {
   "cell_type": "code",
   "execution_count": 29,
   "metadata": {},
   "outputs": [
    {
     "name": "stdout",
     "output_type": "stream",
     "text": [
      "nan\n",
      "False\n",
      "False\n",
      "False\n",
      "False\n",
      "nan\n",
      "True\n"
     ]
    }
   ],
   "source": [
    "# Working with np.nan and np.Inf\n",
    "print(0*np.inf)\n",
    "print(np.nan == np.nan)\n",
    "print(np.inf > np.nan)\n",
    "print(np.nan > np.inf)\n",
    "print(np.nan < np.nan)\n",
    "print(np.nan - np.nan)\n",
    "print(np.inf > 0)"
   ]
  },
  {
   "cell_type": "markdown",
   "metadata": {
    "id": "DbCDwtJ1ntzs"
   },
   "source": [
    "## Reduction\n",
    "\n"
   ]
  },
  {
   "cell_type": "markdown",
   "metadata": {},
   "source": [
    "Sometimes we want to simplify our data. We might be dealing with images and want to convert it into grayscale hence we would need to take the average of the RGB channels. This simplification of data is known as _reduction_. We can perform it on multiple axis, and have functions like sum, average and median. We will motivate this understanding of how we can use axis using an example of pixels. The screen that you have has a width and height. And each pixel has an RGB value.\n",
    "\n",
    "<h3><center>Reduction Representation</center></h3>\n",
    "\n",
    "<div>\n",
    "<center>\n",
    "<img src=\"reduction.png\" width=\"840\" />\n",
    "</center>\n",
    "</div>"
   ]
  },
  {
   "cell_type": "code",
   "execution_count": 30,
   "metadata": {
    "colab": {
     "base_uri": "https://localhost:8080/"
    },
    "id": "TXB1z1TSntzs",
    "outputId": "6cbe2455-62ba-4d2f-951b-022239f8730e"
   },
   "outputs": [
    {
     "data": {
      "text/plain": [
       "(2, 3, 3)"
      ]
     },
     "execution_count": 30,
     "metadata": {},
     "output_type": "execute_result"
    }
   ],
   "source": [
    "pixels = np.array([\n",
    "        [[100,200,220],[110,110,110],[120,100,80]]\n",
    "         ,[[0,0,0],[255,250,250],[30,50,70]]])\n",
    "# We have 2 rows, with 3 columns, and each (row,column) pair has 3 values. RGB. The pixel has width 3, and height 2\n",
    "pixels.shape"
   ]
  },
  {
   "cell_type": "markdown",
   "metadata": {
    "id": "ojPCbjL4ntzt"
   },
   "source": [
    "Suppose we want to take the sum of each row, then our axis would be 0 (Row axis)"
   ]
  },
  {
   "cell_type": "code",
   "execution_count": 31,
   "metadata": {
    "id": "eUiTMUr-ntzt",
    "outputId": "cbf19a6b-dc55-4f82-b93c-59fc00dcd890"
   },
   "outputs": [
    {
     "data": {
      "text/plain": [
       "array([[100, 200, 220],\n",
       "       [365, 360, 360],\n",
       "       [150, 150, 150]])"
      ]
     },
     "execution_count": 31,
     "metadata": {},
     "output_type": "execute_result"
    }
   ],
   "source": [
    "np.sum(pixels,axis=0)"
   ]
  },
  {
   "cell_type": "markdown",
   "metadata": {
    "id": "LNF-NdnZntzt"
   },
   "source": [
    "If we want to take median of each column, we can take it on axis 1. (Column axis)"
   ]
  },
  {
   "cell_type": "code",
   "execution_count": 32,
   "metadata": {
    "id": "RWUZFvYjntzt",
    "outputId": "f995d7a6-ecc6-48f1-8022-1a9fe5911c68"
   },
   "outputs": [
    {
     "data": {
      "text/plain": [
       "array([[110., 110., 110.],\n",
       "       [ 30.,  50.,  70.]])"
      ]
     },
     "execution_count": 32,
     "metadata": {},
     "output_type": "execute_result"
    }
   ],
   "source": [
    "np.median(pixels,axis=1)"
   ]
  },
  {
   "cell_type": "markdown",
   "metadata": {
    "id": "hAlLkFzUntzu"
   },
   "source": [
    "Suppose we want to convert the image into grayscale. Then we will take the average of the R,G,B pixels. Hence our axis will be 2."
   ]
  },
  {
   "cell_type": "code",
   "execution_count": 33,
   "metadata": {
    "id": "JWCrK3q_ntzu",
    "outputId": "4925b651-8f21-4d37-a517-b36f79b52404"
   },
   "outputs": [
    {
     "data": {
      "text/plain": [
       "array([[173.33333333, 110.        , 100.        ],\n",
       "       [  0.        , 251.66666667,  50.        ]])"
      ]
     },
     "execution_count": 33,
     "metadata": {},
     "output_type": "execute_result"
    }
   ],
   "source": [
    "np.average(pixels,axis=2)"
   ]
  },
  {
   "cell_type": "code",
   "execution_count": 34,
   "metadata": {
    "colab": {
     "base_uri": "https://localhost:8080/"
    },
    "id": "r1Q3ZjXOopVp",
    "outputId": "7be104a0-5ef6-46ea-bc11-96c9c2851337"
   },
   "outputs": [
    {
     "name": "stdout",
     "output_type": "stream",
     "text": [
      "[[0 1 2 3 4]\n",
      " [5 6 7 8 9]]\n",
      "Shape of A =  (2, 5)\n",
      "[4 9]\n"
     ]
    }
   ],
   "source": [
    "A=np.arange(10).reshape(2,5)\n",
    "print(A)\n",
    "print(\"Shape of A = \",A.shape)\n",
    "print(np.max(A,axis=1))"
   ]
  },
  {
   "cell_type": "markdown",
   "metadata": {
    "id": "enEb8XOLntzu"
   },
   "source": [
    "There exists other functions as well. Like max. You can also apply without specifying the axis. In that case, it will be applied to each element in the matrix."
   ]
  },
  {
   "cell_type": "code",
   "execution_count": 35,
   "metadata": {
    "id": "a-wGN38fntzu",
    "outputId": "edde58ed-cada-441a-c877-129e29a3c716"
   },
   "outputs": [
    {
     "data": {
      "text/plain": [
       "255"
      ]
     },
     "execution_count": 35,
     "metadata": {},
     "output_type": "execute_result"
    }
   ],
   "source": [
    "np.max(pixels)"
   ]
  },
  {
   "cell_type": "markdown",
   "metadata": {},
   "source": [
    "Numpy also provides functions which ignore Nan values when performing operations such as computing the mean or median."
   ]
  },
  {
   "cell_type": "code",
   "execution_count": 36,
   "metadata": {},
   "outputs": [
    {
     "name": "stdout",
     "output_type": "stream",
     "text": [
      "0.5\n",
      "0.5\n",
      "1.0\n"
     ]
    }
   ],
   "source": [
    "A = np.asarray([0,np.nan,1])\n",
    "print(np.nanmean(A))\n",
    "print(np.nanmedian(A))\n",
    "print(np.nansum(A))"
   ]
  },
  {
   "cell_type": "markdown",
   "metadata": {
    "id": "nrIf9oCWntzu"
   },
   "source": [
    "## Non reduction\n",
    "\n",
    "\n"
   ]
  },
  {
   "cell_type": "markdown",
   "metadata": {},
   "source": [
    "We can sometimes find it can be useful to keep the number of axes unchanged when invoking the function for calculating the sum or mean. In that case, we can set `keepdims = True` and this will preserve our dimensions."
   ]
  },
  {
   "cell_type": "code",
   "execution_count": 37,
   "metadata": {
    "colab": {
     "base_uri": "https://localhost:8080/"
    },
    "id": "Y0AVaD19ntzu",
    "outputId": "6eabe35b-c4e8-49d2-f288-6c0916c64620"
   },
   "outputs": [
    {
     "data": {
      "text/plain": [
       "array([[ 0,  1,  2,  3],\n",
       "       [ 4,  5,  6,  7],\n",
       "       [ 8,  9, 10, 11],\n",
       "       [12, 13, 14, 15],\n",
       "       [16, 17, 18, 19]])"
      ]
     },
     "execution_count": 37,
     "metadata": {},
     "output_type": "execute_result"
    }
   ],
   "source": [
    "A = np.arange(20).reshape(5, 4)\n",
    "A"
   ]
  },
  {
   "cell_type": "code",
   "execution_count": 38,
   "metadata": {
    "colab": {
     "base_uri": "https://localhost:8080/"
    },
    "id": "yfvtTQE5ntzu",
    "outputId": "3a037c6a-1dcd-46fa-99be-5a4e6066999a"
   },
   "outputs": [
    {
     "data": {
      "text/plain": [
       "array([[ 6],\n",
       "       [22],\n",
       "       [38],\n",
       "       [54],\n",
       "       [70]])"
      ]
     },
     "execution_count": 38,
     "metadata": {},
     "output_type": "execute_result"
    }
   ],
   "source": [
    "sum_A = A.sum(axis=1, keepdims=True)\n",
    "sum_A"
   ]
  },
  {
   "cell_type": "markdown",
   "metadata": {
    "id": "fdiKyJ04ntzv"
   },
   "source": [
    "For instance, since sum_A still keeps its two axes after summing each row, we can divide `A` by `sum_A` with broadcasting."
   ]
  },
  {
   "cell_type": "code",
   "execution_count": 39,
   "metadata": {
    "colab": {
     "base_uri": "https://localhost:8080/"
    },
    "id": "NJ2DynMGntzv",
    "outputId": "5dce0250-697c-4b0d-a60f-bc6bd5c7c6a3"
   },
   "outputs": [
    {
     "data": {
      "text/plain": [
       "array([[0.        , 0.16666667, 0.33333333, 0.5       ],\n",
       "       [0.18181818, 0.22727273, 0.27272727, 0.31818182],\n",
       "       [0.21052632, 0.23684211, 0.26315789, 0.28947368],\n",
       "       [0.22222222, 0.24074074, 0.25925926, 0.27777778],\n",
       "       [0.22857143, 0.24285714, 0.25714286, 0.27142857]])"
      ]
     },
     "execution_count": 39,
     "metadata": {},
     "output_type": "execute_result"
    }
   ],
   "source": [
    "A / sum_A"
   ]
  },
  {
   "cell_type": "markdown",
   "metadata": {
    "id": "yAOTOXsYntzv"
   },
   "source": [
    "If we want to calculate the cumulative sum of elements of A along some axis, say axis=0 (row by row), we can call the `cumsum` function. This function will not reduce the input tensor along any\n",
    "axis."
   ]
  },
  {
   "cell_type": "code",
   "execution_count": 40,
   "metadata": {
    "id": "ue8aKdPIntzv",
    "outputId": "6795af5f-aa21-4352-a9d8-0885377643ed"
   },
   "outputs": [
    {
     "data": {
      "text/plain": [
       "array([[ 0,  1,  2,  3],\n",
       "       [ 4,  6,  8, 10],\n",
       "       [12, 15, 18, 21],\n",
       "       [24, 28, 32, 36],\n",
       "       [40, 45, 50, 55]])"
      ]
     },
     "execution_count": 40,
     "metadata": {},
     "output_type": "execute_result"
    }
   ],
   "source": [
    "A.cumsum(axis=0)"
   ]
  },
  {
   "cell_type": "markdown",
   "metadata": {
    "id": "zP-1sA1Pntzv"
   },
   "source": [
    "## Dot Product\n",
    "\n"
   ]
  },
  {
   "cell_type": "markdown",
   "metadata": {},
   "source": [
    "So far, we have only performed elementwise operations, sums, and averages. We can now move on to the domain of Linear Algebra. One of the most fundamental operations is the dot product. Given two vectors $x, y \\in  \\mathbb{R}^d$, their _dot product_ $\\mathbf{x}^⊤\\mathbf{y}$ (or $\\langle x, y\\rangle$) is a sum over the products of the elements at the same position\n",
    "$$\\mathbf{x}^⊤\\mathbf{y} = \\sum_{i=1}^{d} x_i y_i$$\n",
    "\n",
    "<h3><center>Dot Product Representation</center></h3>\n",
    "\n",
    "<div>\n",
    "<center>\n",
    "<img src=\"dot1.png\" width=\"840\" />\n",
    "</center>\n",
    "</div>\n",
    "\n",
    "<h3></h3>\n",
    "\n",
    "<div>\n",
    "<center>\n",
    "<img src=\"dot2.png\" width=\"840\" />\n",
    "</center>\n",
    "</div>"
   ]
  },
  {
   "cell_type": "code",
   "execution_count": 41,
   "metadata": {
    "id": "WgPG50ixntzv",
    "outputId": "aff9d569-b27e-4b35-ad16-222e93ab2015"
   },
   "outputs": [
    {
     "data": {
      "text/plain": [
       "(array([0, 1, 2, 3]), array([1., 1., 1., 1.]), 6.0)"
      ]
     },
     "execution_count": 41,
     "metadata": {},
     "output_type": "execute_result"
    }
   ],
   "source": [
    "x = np.arange(4)\n",
    "y = np.ones(4)\n",
    "# We use the np.dot function for dot products\n",
    "x,y, np.dot(x,y)"
   ]
  },
  {
   "cell_type": "markdown",
   "metadata": {
    "id": "w8P7aD44ntzw"
   },
   "source": [
    "Dot products are useful in a wide range ofcontexts. For example, given some set of values, denoted by a vector $x \\in \\mathbb{R}^d$ and a set of weights denoted by $w \\in \\mathbb{R}^d$, the weighted sum of the values in $x$ according to the weights $w$ could be expressed as the dot product $\\mathbf{x}^⊤\\mathbf{w}$. When the weights are\n",
    "non-negative and sum to one (i.e., ($\\sum_{i=1}^{d} w_i = 1$), the dot product expresses a _weighted average._\n",
    ")"
   ]
  },
  {
   "cell_type": "markdown",
   "metadata": {},
   "source": [
    "## Broadcasting"
   ]
  },
  {
   "cell_type": "markdown",
   "metadata": {
    "id": "CKiLwPKQntzw"
   },
   "source": [
    "Arrays with different sizes cannot be added, subtracted, or generally be used in arithmetic. A way to overcome this is to duplicate the smaller array so that it is the dimensionality and size as the larger array. This is called array broadcasting and is available in NumPy when performing array arithmetic, which can greatly reduce and simplify your code.\n",
    "\n",
    "<h3><center>Broadcasting Representation</center></h3>\n",
    "\n",
    "<div>\n",
    "<center>\n",
    "<img src=\"broadcasting.png\" width=\"840\" />\n",
    "</center>\n",
    "</div>\n"
   ]
  },
  {
   "cell_type": "code",
   "execution_count": 42,
   "metadata": {
    "colab": {
     "base_uri": "https://localhost:8080/"
    },
    "id": "RbLtkEAIn-G5",
    "outputId": "4808eab5-088e-4d0d-f498-e90748fbab24"
   },
   "outputs": [
    {
     "name": "stdout",
     "output_type": "stream",
     "text": [
      "[4. 5. 6.]\n"
     ]
    }
   ],
   "source": [
    "# adding a sclar to array  \n",
    "A = np.array([1,2,3])\n",
    "b= 3.0\n",
    "print(A+b)"
   ]
  },
  {
   "cell_type": "code",
   "execution_count": 43,
   "metadata": {
    "colab": {
     "base_uri": "https://localhost:8080/"
    },
    "id": "23wnHYzroI46",
    "outputId": "78e4a61b-31b5-46c8-978c-44945cfd6c72"
   },
   "outputs": [
    {
     "name": "stdout",
     "output_type": "stream",
     "text": [
      "[[1 2 3]\n",
      " [1 2 3]]\n",
      "[[4. 5. 6.]\n",
      " [4. 5. 6.]]\n"
     ]
    }
   ],
   "source": [
    "# adding a sclar to matrix\n",
    "A = np.array([[1,2,3],[1,2,3]])\n",
    "print(A)\n",
    "b= 3.0\n",
    "print(A+b)"
   ]
  },
  {
   "cell_type": "code",
   "execution_count": 44,
   "metadata": {
    "colab": {
     "base_uri": "https://localhost:8080/"
    },
    "id": "CaMmQgnurT1r",
    "outputId": "1ddf80b7-a770-4e5d-ca22-0f358306760d"
   },
   "outputs": [
    {
     "name": "stdout",
     "output_type": "stream",
     "text": [
      "[[1 2 3]\n",
      " [1 2 3]]\n",
      "[[2 3 6]\n",
      " [2 3 6]]\n"
     ]
    }
   ],
   "source": [
    "A = np.array([[1,2,3],[1,2,3]])\n",
    "print(A)\n",
    "B=np.array([1,1,3]).reshape(1,3)\n",
    "print(A+B)\n"
   ]
  },
  {
   "cell_type": "markdown",
   "metadata": {},
   "source": [
    "## Aggregation"
   ]
  },
  {
   "cell_type": "markdown",
   "metadata": {},
   "source": [
    "Additional benefits NumPy gives us are aggregation functions:\n",
    "\n",
    "<h3><center>Aggregation Representation in Vectors</center></h3>\n",
    "\n",
    "<div>\n",
    "<center>\n",
    "<img src=\"aggregationvectors.png\" width=\"840\" />\n",
    "</center>\n",
    "</div>\n"
   ]
  },
  {
   "cell_type": "markdown",
   "metadata": {},
   "source": [
    "In addition to min, max, and sum, you get all the greats like mean to get the average, prod to get the result of multiplying all the elements together, std to get standard deviation, and plenty of others.\n",
    "\n",
    "We can aggregate matrices the same way we aggregated vectors:\n",
    "\n",
    "<h3><center>Aggregation Representation in Matrices</center></h3>\n",
    "\n",
    "<div>\n",
    "<center>\n",
    "<img src=\"aggregation.png\" width=\"840\" />\n",
    "</center>\n",
    "</div>\n"
   ]
  },
  {
   "cell_type": "code",
   "execution_count": 45,
   "metadata": {},
   "outputs": [
    {
     "data": {
      "text/plain": [
       "(1, 3, 6)"
      ]
     },
     "execution_count": 45,
     "metadata": {},
     "output_type": "execute_result"
    }
   ],
   "source": [
    "# In Vector\n",
    "a = np.arange(1,4)\n",
    "a.min(),a.max(),a.sum()"
   ]
  },
  {
   "cell_type": "code",
   "execution_count": 46,
   "metadata": {},
   "outputs": [
    {
     "data": {
      "text/plain": [
       "(1, 6, 21)"
      ]
     },
     "execution_count": 46,
     "metadata": {},
     "output_type": "execute_result"
    }
   ],
   "source": [
    "# In Matrices\n",
    "a = np.arange(1,7).reshape(3,2)\n",
    "a.min(),a.max(),a.sum()"
   ]
  },
  {
   "cell_type": "markdown",
   "metadata": {},
   "source": [
    "However, things get a little tricky when axis is involved.\n",
    "<h3><center>Aggregation Representation in Matrices</center></h3>\n",
    "\n",
    "<div>\n",
    "<center>\n",
    "<img src=\"aggregationaxis.png\" width=\"840\" />\n",
    "</center>\n",
    "</div>"
   ]
  },
  {
   "cell_type": "code",
   "execution_count": 47,
   "metadata": {},
   "outputs": [
    {
     "data": {
      "text/plain": [
       "(array([1, 2]),\n",
       " array([5, 6]),\n",
       " array([ 9, 12]),\n",
       " array([1, 3, 5]),\n",
       " array([2, 4, 6]),\n",
       " array([ 3,  7, 11]))"
      ]
     },
     "execution_count": 47,
     "metadata": {},
     "output_type": "execute_result"
    }
   ],
   "source": [
    "# In Matrices\n",
    "a = np.arange(1,7).reshape(3,2)\n",
    "a.min(axis=0),a.max(axis=0),a.sum(axis=0),a.min(axis=1),a.max(axis=1),a.sum(axis=1)"
   ]
  },
  {
   "cell_type": "markdown",
   "metadata": {},
   "source": [
    "## argmax vs max and argmin vs min\n",
    "argmax returns the index of maximum value and max returns the value. Similarly, argmin return the index of minimum value and min returns the value."
   ]
  },
  {
   "cell_type": "code",
   "execution_count": 48,
   "metadata": {},
   "outputs": [
    {
     "name": "stdout",
     "output_type": "stream",
     "text": [
      "[  3.79318366   1.45348853   6.00230324   7.71141536   1.01444892\n",
      "   7.34869033 100.           1.7125098    4.06125921   9.80584156]\n"
     ]
    }
   ],
   "source": [
    "# Argmin and Argmax\n",
    "z = np.random.uniform(0,10,10)\n",
    "z[np.argmin(z)]=100\n",
    "print(z)"
   ]
  },
  {
   "cell_type": "markdown",
   "metadata": {},
   "source": [
    "Let's say we want to find the closet value in the array A to the randomnly generated value. We can use the `np.argmin` for this purpose."
   ]
  },
  {
   "cell_type": "code",
   "execution_count": 49,
   "metadata": {},
   "outputs": [
    {
     "name": "stdout",
     "output_type": "stream",
     "text": [
      "Point is 26.84095671815455 is close to 27\n"
     ]
    }
   ],
   "source": [
    "z = np.arange(100)\n",
    "point = np.random.uniform(0,100)\n",
    "index = np.argmin(np.abs(z-point))\n",
    "print(f'Point is {point} is close to {z[index]}')"
   ]
  },
  {
   "cell_type": "markdown",
   "metadata": {},
   "source": [
    "## 3-Dimensional Tensors\n",
    "When you printing a 3-dimensional NumPy array, the text output visualizes the array differently than stored in memory. here is how it will be stored in Memory.\n",
    "\n",
    "<div>\n",
    "<center>\n",
    "<img src=\"moredimensions.png\" width=\"840\" />\n",
    "</center>\n",
    "</div>\n",
    "\n",
    "NumPy’s order for printing n-dimensional arrays is that the last axis is looped over the fastest, while the first is the slowest. Which means that np.ones((4,3,2)) would be printed as:"
   ]
  },
  {
   "cell_type": "code",
   "execution_count": 50,
   "metadata": {},
   "outputs": [
    {
     "data": {
      "text/plain": [
       "array([[[1., 1.],\n",
       "        [1., 1.],\n",
       "        [1., 1.]],\n",
       "\n",
       "       [[1., 1.],\n",
       "        [1., 1.],\n",
       "        [1., 1.]],\n",
       "\n",
       "       [[1., 1.],\n",
       "        [1., 1.],\n",
       "        [1., 1.]],\n",
       "\n",
       "       [[1., 1.],\n",
       "        [1., 1.],\n",
       "        [1., 1.]]])"
      ]
     },
     "execution_count": 50,
     "metadata": {},
     "output_type": "execute_result"
    }
   ],
   "source": [
    "np.ones((4,3,2))"
   ]
  },
  {
   "cell_type": "code",
   "execution_count": 51,
   "metadata": {},
   "outputs": [
    {
     "data": {
      "text/plain": [
       "array([[[0.71742048, 0.22066025],\n",
       "        [0.3544689 , 0.39306487],\n",
       "        [0.01173639, 0.03763743]],\n",
       "\n",
       "       [[0.41210745, 0.56063978],\n",
       "        [0.84622183, 0.97798881],\n",
       "        [0.51291966, 0.54821589]],\n",
       "\n",
       "       [[0.2748304 , 0.69281295],\n",
       "        [0.04801771, 0.38116412],\n",
       "        [0.46495034, 0.90866394]],\n",
       "\n",
       "       [[0.65876798, 0.80593594],\n",
       "        [0.01168808, 0.89222466],\n",
       "        [0.90546341, 0.62386472]]])"
      ]
     },
     "execution_count": 51,
     "metadata": {},
     "output_type": "execute_result"
    }
   ],
   "source": [
    "np.random.random((4,3,2))"
   ]
  }
 ],
 "metadata": {
  "colab": {
   "name": "Lab_1_Numpy_Basics.ipynb",
   "provenance": []
  },
  "kernelspec": {
   "display_name": "Python 3.9.12 ('base')",
   "language": "python",
   "name": "python3"
  },
  "language_info": {
   "codemirror_mode": {
    "name": "ipython",
    "version": 3
   },
   "file_extension": ".py",
   "mimetype": "text/x-python",
   "name": "python",
   "nbconvert_exporter": "python",
   "pygments_lexer": "ipython3",
   "version": "3.9.2"
  },
  "vscode": {
   "interpreter": {
    "hash": "341ce806ad348c6396969bf6bfc3e3b2899dcbddac3f00a64251096e015967a2"
   }
  }
 },
 "nbformat": 4,
 "nbformat_minor": 1
}
